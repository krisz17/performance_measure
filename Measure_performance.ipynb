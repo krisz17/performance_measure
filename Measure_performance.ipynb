{
 "cells": [
  {
   "cell_type": "markdown",
   "id": "546f80cc-fee6-4077-ba9f-e9ac0ddf3049",
   "metadata": {},
   "source": [
    "Przykładowe kody do pomiaru wydajności modeli statystycznych, klasyfikacji oraz regresji. \n",
    "Dane Titanic pobran z https://www.kaggle.com/competitions/titanic/data"
   ]
  },
  {
   "cell_type": "code",
   "execution_count": 1,
   "id": "1bf830a2-bd16-49f7-a569-3f5742fea7f4",
   "metadata": {},
   "outputs": [
    {
     "data": {
      "text/html": [
       "<div>\n",
       "<style scoped>\n",
       "    .dataframe tbody tr th:only-of-type {\n",
       "        vertical-align: middle;\n",
       "    }\n",
       "\n",
       "    .dataframe tbody tr th {\n",
       "        vertical-align: top;\n",
       "    }\n",
       "\n",
       "    .dataframe thead th {\n",
       "        text-align: right;\n",
       "    }\n",
       "</style>\n",
       "<table border=\"1\" class=\"dataframe\">\n",
       "  <thead>\n",
       "    <tr style=\"text-align: right;\">\n",
       "      <th></th>\n",
       "      <th>PassengerId</th>\n",
       "      <th>Survived</th>\n",
       "      <th>Pclass</th>\n",
       "      <th>Name</th>\n",
       "      <th>Sex</th>\n",
       "      <th>Age</th>\n",
       "      <th>SibSp</th>\n",
       "      <th>Parch</th>\n",
       "      <th>Ticket</th>\n",
       "      <th>Fare</th>\n",
       "      <th>Cabin</th>\n",
       "      <th>Embarked</th>\n",
       "    </tr>\n",
       "  </thead>\n",
       "  <tbody>\n",
       "    <tr>\n",
       "      <th>0</th>\n",
       "      <td>1</td>\n",
       "      <td>0</td>\n",
       "      <td>3</td>\n",
       "      <td>Braund, Mr. Owen Harris</td>\n",
       "      <td>male</td>\n",
       "      <td>22.0</td>\n",
       "      <td>1</td>\n",
       "      <td>0</td>\n",
       "      <td>A/5 21171</td>\n",
       "      <td>7.2500</td>\n",
       "      <td>NaN</td>\n",
       "      <td>S</td>\n",
       "    </tr>\n",
       "    <tr>\n",
       "      <th>1</th>\n",
       "      <td>2</td>\n",
       "      <td>1</td>\n",
       "      <td>1</td>\n",
       "      <td>Cumings, Mrs. John Bradley (Florence Briggs Th...</td>\n",
       "      <td>female</td>\n",
       "      <td>38.0</td>\n",
       "      <td>1</td>\n",
       "      <td>0</td>\n",
       "      <td>PC 17599</td>\n",
       "      <td>71.2833</td>\n",
       "      <td>C85</td>\n",
       "      <td>C</td>\n",
       "    </tr>\n",
       "    <tr>\n",
       "      <th>2</th>\n",
       "      <td>3</td>\n",
       "      <td>1</td>\n",
       "      <td>3</td>\n",
       "      <td>Heikkinen, Miss. Laina</td>\n",
       "      <td>female</td>\n",
       "      <td>26.0</td>\n",
       "      <td>0</td>\n",
       "      <td>0</td>\n",
       "      <td>STON/O2. 3101282</td>\n",
       "      <td>7.9250</td>\n",
       "      <td>NaN</td>\n",
       "      <td>S</td>\n",
       "    </tr>\n",
       "    <tr>\n",
       "      <th>3</th>\n",
       "      <td>4</td>\n",
       "      <td>1</td>\n",
       "      <td>1</td>\n",
       "      <td>Futrelle, Mrs. Jacques Heath (Lily May Peel)</td>\n",
       "      <td>female</td>\n",
       "      <td>35.0</td>\n",
       "      <td>1</td>\n",
       "      <td>0</td>\n",
       "      <td>113803</td>\n",
       "      <td>53.1000</td>\n",
       "      <td>C123</td>\n",
       "      <td>S</td>\n",
       "    </tr>\n",
       "    <tr>\n",
       "      <th>4</th>\n",
       "      <td>5</td>\n",
       "      <td>0</td>\n",
       "      <td>3</td>\n",
       "      <td>Allen, Mr. William Henry</td>\n",
       "      <td>male</td>\n",
       "      <td>35.0</td>\n",
       "      <td>0</td>\n",
       "      <td>0</td>\n",
       "      <td>373450</td>\n",
       "      <td>8.0500</td>\n",
       "      <td>NaN</td>\n",
       "      <td>S</td>\n",
       "    </tr>\n",
       "    <tr>\n",
       "      <th>...</th>\n",
       "      <td>...</td>\n",
       "      <td>...</td>\n",
       "      <td>...</td>\n",
       "      <td>...</td>\n",
       "      <td>...</td>\n",
       "      <td>...</td>\n",
       "      <td>...</td>\n",
       "      <td>...</td>\n",
       "      <td>...</td>\n",
       "      <td>...</td>\n",
       "      <td>...</td>\n",
       "      <td>...</td>\n",
       "    </tr>\n",
       "    <tr>\n",
       "      <th>886</th>\n",
       "      <td>887</td>\n",
       "      <td>0</td>\n",
       "      <td>2</td>\n",
       "      <td>Montvila, Rev. Juozas</td>\n",
       "      <td>male</td>\n",
       "      <td>27.0</td>\n",
       "      <td>0</td>\n",
       "      <td>0</td>\n",
       "      <td>211536</td>\n",
       "      <td>13.0000</td>\n",
       "      <td>NaN</td>\n",
       "      <td>S</td>\n",
       "    </tr>\n",
       "    <tr>\n",
       "      <th>887</th>\n",
       "      <td>888</td>\n",
       "      <td>1</td>\n",
       "      <td>1</td>\n",
       "      <td>Graham, Miss. Margaret Edith</td>\n",
       "      <td>female</td>\n",
       "      <td>19.0</td>\n",
       "      <td>0</td>\n",
       "      <td>0</td>\n",
       "      <td>112053</td>\n",
       "      <td>30.0000</td>\n",
       "      <td>B42</td>\n",
       "      <td>S</td>\n",
       "    </tr>\n",
       "    <tr>\n",
       "      <th>888</th>\n",
       "      <td>889</td>\n",
       "      <td>0</td>\n",
       "      <td>3</td>\n",
       "      <td>Johnston, Miss. Catherine Helen \"Carrie\"</td>\n",
       "      <td>female</td>\n",
       "      <td>NaN</td>\n",
       "      <td>1</td>\n",
       "      <td>2</td>\n",
       "      <td>W./C. 6607</td>\n",
       "      <td>23.4500</td>\n",
       "      <td>NaN</td>\n",
       "      <td>S</td>\n",
       "    </tr>\n",
       "    <tr>\n",
       "      <th>889</th>\n",
       "      <td>890</td>\n",
       "      <td>1</td>\n",
       "      <td>1</td>\n",
       "      <td>Behr, Mr. Karl Howell</td>\n",
       "      <td>male</td>\n",
       "      <td>26.0</td>\n",
       "      <td>0</td>\n",
       "      <td>0</td>\n",
       "      <td>111369</td>\n",
       "      <td>30.0000</td>\n",
       "      <td>C148</td>\n",
       "      <td>C</td>\n",
       "    </tr>\n",
       "    <tr>\n",
       "      <th>890</th>\n",
       "      <td>891</td>\n",
       "      <td>0</td>\n",
       "      <td>3</td>\n",
       "      <td>Dooley, Mr. Patrick</td>\n",
       "      <td>male</td>\n",
       "      <td>32.0</td>\n",
       "      <td>0</td>\n",
       "      <td>0</td>\n",
       "      <td>370376</td>\n",
       "      <td>7.7500</td>\n",
       "      <td>NaN</td>\n",
       "      <td>Q</td>\n",
       "    </tr>\n",
       "  </tbody>\n",
       "</table>\n",
       "<p>891 rows × 12 columns</p>\n",
       "</div>"
      ],
      "text/plain": [
       "     PassengerId  Survived  Pclass  \\\n",
       "0              1         0       3   \n",
       "1              2         1       1   \n",
       "2              3         1       3   \n",
       "3              4         1       1   \n",
       "4              5         0       3   \n",
       "..           ...       ...     ...   \n",
       "886          887         0       2   \n",
       "887          888         1       1   \n",
       "888          889         0       3   \n",
       "889          890         1       1   \n",
       "890          891         0       3   \n",
       "\n",
       "                                                  Name     Sex   Age  SibSp  \\\n",
       "0                              Braund, Mr. Owen Harris    male  22.0      1   \n",
       "1    Cumings, Mrs. John Bradley (Florence Briggs Th...  female  38.0      1   \n",
       "2                               Heikkinen, Miss. Laina  female  26.0      0   \n",
       "3         Futrelle, Mrs. Jacques Heath (Lily May Peel)  female  35.0      1   \n",
       "4                             Allen, Mr. William Henry    male  35.0      0   \n",
       "..                                                 ...     ...   ...    ...   \n",
       "886                              Montvila, Rev. Juozas    male  27.0      0   \n",
       "887                       Graham, Miss. Margaret Edith  female  19.0      0   \n",
       "888           Johnston, Miss. Catherine Helen \"Carrie\"  female   NaN      1   \n",
       "889                              Behr, Mr. Karl Howell    male  26.0      0   \n",
       "890                                Dooley, Mr. Patrick    male  32.0      0   \n",
       "\n",
       "     Parch            Ticket     Fare Cabin Embarked  \n",
       "0        0         A/5 21171   7.2500   NaN        S  \n",
       "1        0          PC 17599  71.2833   C85        C  \n",
       "2        0  STON/O2. 3101282   7.9250   NaN        S  \n",
       "3        0            113803  53.1000  C123        S  \n",
       "4        0            373450   8.0500   NaN        S  \n",
       "..     ...               ...      ...   ...      ...  \n",
       "886      0            211536  13.0000   NaN        S  \n",
       "887      0            112053  30.0000   B42        S  \n",
       "888      2        W./C. 6607  23.4500   NaN        S  \n",
       "889      0            111369  30.0000  C148        C  \n",
       "890      0            370376   7.7500   NaN        Q  \n",
       "\n",
       "[891 rows x 12 columns]"
      ]
     },
     "metadata": {},
     "output_type": "display_data"
    }
   ],
   "source": [
    "# ładuję potrzebne biblioteki\n",
    "import pandas as pd \n",
    "import numpy as np\n",
    "import os \n",
    "\n",
    "path = \"E:\\page_ds\\performance_measure\"\n",
    "\n",
    "data = pd.read_csv(os.path.join(path, \"train.csv\"))\n",
    "# niestety nie doczytałem, że zbiór testowy nie zawiera etykiet!\n",
    "data_test = pd.read_csv(os.path.join(path, \"test.csv\"))\n",
    "display(data)\n"
   ]
  },
  {
   "cell_type": "code",
   "execution_count": null,
   "id": "e819aaa0-42fc-49ef-afe6-2210857e6561",
   "metadata": {},
   "outputs": [],
   "source": [
    "from dataprep.eda import create_report\n",
    "\n",
    "report = create_report(data, title='EDA dla zbioru Titanic')\n",
    "# przenoszę do przeglądarki\n",
    "report.save( \"EDA_dla_Titanic.html\")\n",
    "report.show_browser()\n",
    "report.show()"
   ]
  },
  {
   "cell_type": "markdown",
   "id": "f9f05e69-79d4-434d-8d0d-77a357d7b652",
   "metadata": {},
   "source": [
    "Dla ułatwienia tematu, pozostawię sobie jedynie kilka kolumn niezbędnych do zbudowania dowolnego modelu. Dodatkowo przekoduję zmienne na numeryczne aby modele działały bez zarzutu"
   ]
  },
  {
   "cell_type": "code",
   "execution_count": 4,
   "id": "b118ee32-e77b-4fc2-9648-b63c46526988",
   "metadata": {},
   "outputs": [
    {
     "data": {
      "text/plain": [
       "Index(['PassengerId', 'Survived', 'Pclass', 'Name', 'Sex', 'Age', 'SibSp',\n",
       "       'Parch', 'Ticket', 'Fare', 'Cabin', 'Embarked'],\n",
       "      dtype='object')"
      ]
     },
     "execution_count": 4,
     "metadata": {},
     "output_type": "execute_result"
    }
   ],
   "source": [
    "data.columns"
   ]
  },
  {
   "cell_type": "code",
   "execution_count": 2,
   "id": "d3eb0786-5c4d-4b98-a89c-8dfdc2c5af49",
   "metadata": {},
   "outputs": [],
   "source": [
    "# dla kilku zmiennych posiadamy braki w danych, przekodowuję rónież cechy o typie innym niż numeryczny\n",
    "from sklearn.impute import SimpleImputer\n",
    "\n",
    "data['Sex_decode'] = np.where(data['Sex']=='male', 1,0)\n",
    "data_test['Sex_decode'] = np.where(data_test['Sex']=='male', 1,0)\n",
    "\n",
    "# uzupełniam wartości nullowe na zmiennej Embarked\n",
    "imp = SimpleImputer(missing_values=np.nan, strategy=\"most_frequent\")\n",
    "imp = imp.fit(data[['Embarked']])\n",
    "data['Embarked'] = imp.transform(data[['Embarked']])\n",
    "data_test['Embarked'] = imp.transform(data_test[['Embarked']])\n",
    "\n",
    "# teraz dekoduję na wartości 1,2,3\n",
    "\n",
    "#conditions = [\n",
    "#    (data['Embarked'] == 'S'),\n",
    "#    (data['Embarked'] == 'C') ,\n",
    "#    (data['Embarked'] == 'Q') \n",
    "#]\n",
    "#\n",
    "#values = [1, 2, 3]\n",
    "#\n",
    "#data['Embarked_cd'] = np.select(conditions, values)\n",
    "#data_test['Embarked_cd'] = np.select(conditions, values)\n",
    "\n",
    "# przekodowanie zmiennej Embarked\n",
    "data_dict = {'S':1, 'C':2,'Q':3}\n",
    "\n",
    "data['Embarked_cd']  = data['Embarked'].map(data_dict) \n",
    "data_test['Embarked_cd']  = data_test['Embarked'].map(data_dict) \n",
    "\n"
   ]
  },
  {
   "cell_type": "code",
   "execution_count": 14,
   "id": "61c7fe39-1524-4df3-a987-0a520d91de5e",
   "metadata": {},
   "outputs": [
    {
     "data": {
      "text/html": [
       "<div>\n",
       "<style scoped>\n",
       "    .dataframe tbody tr th:only-of-type {\n",
       "        vertical-align: middle;\n",
       "    }\n",
       "\n",
       "    .dataframe tbody tr th {\n",
       "        vertical-align: top;\n",
       "    }\n",
       "\n",
       "    .dataframe thead th {\n",
       "        text-align: right;\n",
       "    }\n",
       "</style>\n",
       "<table border=\"1\" class=\"dataframe\">\n",
       "  <thead>\n",
       "    <tr style=\"text-align: right;\">\n",
       "      <th></th>\n",
       "      <th>PassengerId</th>\n",
       "      <th>Survived</th>\n",
       "      <th>Pclass</th>\n",
       "      <th>Name</th>\n",
       "      <th>Sex</th>\n",
       "      <th>Age</th>\n",
       "      <th>SibSp</th>\n",
       "      <th>Parch</th>\n",
       "      <th>Ticket</th>\n",
       "      <th>Fare</th>\n",
       "      <th>Cabin</th>\n",
       "      <th>Embarked</th>\n",
       "      <th>Sex_decode</th>\n",
       "      <th>Embarked_cd</th>\n",
       "    </tr>\n",
       "  </thead>\n",
       "  <tbody>\n",
       "    <tr>\n",
       "      <th>0</th>\n",
       "      <td>1</td>\n",
       "      <td>0</td>\n",
       "      <td>3</td>\n",
       "      <td>Braund, Mr. Owen Harris</td>\n",
       "      <td>male</td>\n",
       "      <td>22.0</td>\n",
       "      <td>1</td>\n",
       "      <td>0</td>\n",
       "      <td>A/5 21171</td>\n",
       "      <td>7.2500</td>\n",
       "      <td>NaN</td>\n",
       "      <td>S</td>\n",
       "      <td>1</td>\n",
       "      <td>1</td>\n",
       "    </tr>\n",
       "    <tr>\n",
       "      <th>1</th>\n",
       "      <td>2</td>\n",
       "      <td>1</td>\n",
       "      <td>1</td>\n",
       "      <td>Cumings, Mrs. John Bradley (Florence Briggs Th...</td>\n",
       "      <td>female</td>\n",
       "      <td>38.0</td>\n",
       "      <td>1</td>\n",
       "      <td>0</td>\n",
       "      <td>PC 17599</td>\n",
       "      <td>71.2833</td>\n",
       "      <td>C85</td>\n",
       "      <td>C</td>\n",
       "      <td>0</td>\n",
       "      <td>2</td>\n",
       "    </tr>\n",
       "    <tr>\n",
       "      <th>2</th>\n",
       "      <td>3</td>\n",
       "      <td>1</td>\n",
       "      <td>3</td>\n",
       "      <td>Heikkinen, Miss. Laina</td>\n",
       "      <td>female</td>\n",
       "      <td>26.0</td>\n",
       "      <td>0</td>\n",
       "      <td>0</td>\n",
       "      <td>STON/O2. 3101282</td>\n",
       "      <td>7.9250</td>\n",
       "      <td>NaN</td>\n",
       "      <td>S</td>\n",
       "      <td>0</td>\n",
       "      <td>1</td>\n",
       "    </tr>\n",
       "    <tr>\n",
       "      <th>3</th>\n",
       "      <td>4</td>\n",
       "      <td>1</td>\n",
       "      <td>1</td>\n",
       "      <td>Futrelle, Mrs. Jacques Heath (Lily May Peel)</td>\n",
       "      <td>female</td>\n",
       "      <td>35.0</td>\n",
       "      <td>1</td>\n",
       "      <td>0</td>\n",
       "      <td>113803</td>\n",
       "      <td>53.1000</td>\n",
       "      <td>C123</td>\n",
       "      <td>S</td>\n",
       "      <td>0</td>\n",
       "      <td>1</td>\n",
       "    </tr>\n",
       "    <tr>\n",
       "      <th>4</th>\n",
       "      <td>5</td>\n",
       "      <td>0</td>\n",
       "      <td>3</td>\n",
       "      <td>Allen, Mr. William Henry</td>\n",
       "      <td>male</td>\n",
       "      <td>35.0</td>\n",
       "      <td>0</td>\n",
       "      <td>0</td>\n",
       "      <td>373450</td>\n",
       "      <td>8.0500</td>\n",
       "      <td>NaN</td>\n",
       "      <td>S</td>\n",
       "      <td>1</td>\n",
       "      <td>1</td>\n",
       "    </tr>\n",
       "    <tr>\n",
       "      <th>...</th>\n",
       "      <td>...</td>\n",
       "      <td>...</td>\n",
       "      <td>...</td>\n",
       "      <td>...</td>\n",
       "      <td>...</td>\n",
       "      <td>...</td>\n",
       "      <td>...</td>\n",
       "      <td>...</td>\n",
       "      <td>...</td>\n",
       "      <td>...</td>\n",
       "      <td>...</td>\n",
       "      <td>...</td>\n",
       "      <td>...</td>\n",
       "      <td>...</td>\n",
       "    </tr>\n",
       "    <tr>\n",
       "      <th>886</th>\n",
       "      <td>887</td>\n",
       "      <td>0</td>\n",
       "      <td>2</td>\n",
       "      <td>Montvila, Rev. Juozas</td>\n",
       "      <td>male</td>\n",
       "      <td>27.0</td>\n",
       "      <td>0</td>\n",
       "      <td>0</td>\n",
       "      <td>211536</td>\n",
       "      <td>13.0000</td>\n",
       "      <td>NaN</td>\n",
       "      <td>S</td>\n",
       "      <td>1</td>\n",
       "      <td>1</td>\n",
       "    </tr>\n",
       "    <tr>\n",
       "      <th>887</th>\n",
       "      <td>888</td>\n",
       "      <td>1</td>\n",
       "      <td>1</td>\n",
       "      <td>Graham, Miss. Margaret Edith</td>\n",
       "      <td>female</td>\n",
       "      <td>19.0</td>\n",
       "      <td>0</td>\n",
       "      <td>0</td>\n",
       "      <td>112053</td>\n",
       "      <td>30.0000</td>\n",
       "      <td>B42</td>\n",
       "      <td>S</td>\n",
       "      <td>0</td>\n",
       "      <td>1</td>\n",
       "    </tr>\n",
       "    <tr>\n",
       "      <th>888</th>\n",
       "      <td>889</td>\n",
       "      <td>0</td>\n",
       "      <td>3</td>\n",
       "      <td>Johnston, Miss. Catherine Helen \"Carrie\"</td>\n",
       "      <td>female</td>\n",
       "      <td>NaN</td>\n",
       "      <td>1</td>\n",
       "      <td>2</td>\n",
       "      <td>W./C. 6607</td>\n",
       "      <td>23.4500</td>\n",
       "      <td>NaN</td>\n",
       "      <td>S</td>\n",
       "      <td>0</td>\n",
       "      <td>1</td>\n",
       "    </tr>\n",
       "    <tr>\n",
       "      <th>889</th>\n",
       "      <td>890</td>\n",
       "      <td>1</td>\n",
       "      <td>1</td>\n",
       "      <td>Behr, Mr. Karl Howell</td>\n",
       "      <td>male</td>\n",
       "      <td>26.0</td>\n",
       "      <td>0</td>\n",
       "      <td>0</td>\n",
       "      <td>111369</td>\n",
       "      <td>30.0000</td>\n",
       "      <td>C148</td>\n",
       "      <td>C</td>\n",
       "      <td>1</td>\n",
       "      <td>2</td>\n",
       "    </tr>\n",
       "    <tr>\n",
       "      <th>890</th>\n",
       "      <td>891</td>\n",
       "      <td>0</td>\n",
       "      <td>3</td>\n",
       "      <td>Dooley, Mr. Patrick</td>\n",
       "      <td>male</td>\n",
       "      <td>32.0</td>\n",
       "      <td>0</td>\n",
       "      <td>0</td>\n",
       "      <td>370376</td>\n",
       "      <td>7.7500</td>\n",
       "      <td>NaN</td>\n",
       "      <td>Q</td>\n",
       "      <td>1</td>\n",
       "      <td>3</td>\n",
       "    </tr>\n",
       "  </tbody>\n",
       "</table>\n",
       "<p>891 rows × 14 columns</p>\n",
       "</div>"
      ],
      "text/plain": [
       "     PassengerId  Survived  Pclass  \\\n",
       "0              1         0       3   \n",
       "1              2         1       1   \n",
       "2              3         1       3   \n",
       "3              4         1       1   \n",
       "4              5         0       3   \n",
       "..           ...       ...     ...   \n",
       "886          887         0       2   \n",
       "887          888         1       1   \n",
       "888          889         0       3   \n",
       "889          890         1       1   \n",
       "890          891         0       3   \n",
       "\n",
       "                                                  Name     Sex   Age  SibSp  \\\n",
       "0                              Braund, Mr. Owen Harris    male  22.0      1   \n",
       "1    Cumings, Mrs. John Bradley (Florence Briggs Th...  female  38.0      1   \n",
       "2                               Heikkinen, Miss. Laina  female  26.0      0   \n",
       "3         Futrelle, Mrs. Jacques Heath (Lily May Peel)  female  35.0      1   \n",
       "4                             Allen, Mr. William Henry    male  35.0      0   \n",
       "..                                                 ...     ...   ...    ...   \n",
       "886                              Montvila, Rev. Juozas    male  27.0      0   \n",
       "887                       Graham, Miss. Margaret Edith  female  19.0      0   \n",
       "888           Johnston, Miss. Catherine Helen \"Carrie\"  female   NaN      1   \n",
       "889                              Behr, Mr. Karl Howell    male  26.0      0   \n",
       "890                                Dooley, Mr. Patrick    male  32.0      0   \n",
       "\n",
       "     Parch            Ticket     Fare Cabin Embarked  Sex_decode  Embarked_cd  \n",
       "0        0         A/5 21171   7.2500   NaN        S           1            1  \n",
       "1        0          PC 17599  71.2833   C85        C           0            2  \n",
       "2        0  STON/O2. 3101282   7.9250   NaN        S           0            1  \n",
       "3        0            113803  53.1000  C123        S           0            1  \n",
       "4        0            373450   8.0500   NaN        S           1            1  \n",
       "..     ...               ...      ...   ...      ...         ...          ...  \n",
       "886      0            211536  13.0000   NaN        S           1            1  \n",
       "887      0            112053  30.0000   B42        S           0            1  \n",
       "888      2        W./C. 6607  23.4500   NaN        S           0            1  \n",
       "889      0            111369  30.0000  C148        C           1            2  \n",
       "890      0            370376   7.7500   NaN        Q           1            3  \n",
       "\n",
       "[891 rows x 14 columns]"
      ]
     },
     "execution_count": 14,
     "metadata": {},
     "output_type": "execute_result"
    }
   ],
   "source": [
    "data"
   ]
  },
  {
   "cell_type": "code",
   "execution_count": 15,
   "id": "59e1a001-0ece-4ffa-8611-5c23cdbccae9",
   "metadata": {},
   "outputs": [
    {
     "data": {
      "text/plain": [
       "Index(['PassengerId', 'Survived', 'Pclass', 'Name', 'Sex', 'Age', 'SibSp',\n",
       "       'Parch', 'Ticket', 'Fare', 'Cabin', 'Embarked', 'Sex_decode',\n",
       "       'Embarked_cd'],\n",
       "      dtype='object')"
      ]
     },
     "execution_count": 15,
     "metadata": {},
     "output_type": "execute_result"
    }
   ],
   "source": [
    "data.columns"
   ]
  },
  {
   "cell_type": "code",
   "execution_count": 3,
   "id": "376f0147-99da-4df6-a048-d417195f7a3e",
   "metadata": {},
   "outputs": [],
   "source": [
    "# finalne dane oraz podział na zbiór uczący oraz walidacyjny\n",
    "from sklearn.model_selection import train_test_split\n",
    "y = pd.Series(data['Survived'])  \n",
    "X = data[['Pclass','Sex_decode','SibSp','Parch','Fare','Embarked_cd']]\n",
    "\n",
    "X_train, X_test, y_train, y_test = train_test_split(X, y, test_size = 0.2, shuffle=True, random_state=128262)"
   ]
  },
  {
   "cell_type": "code",
   "execution_count": 4,
   "id": "01512254-2c16-4951-bac6-c359383930ea",
   "metadata": {},
   "outputs": [
    {
     "data": {
      "text/plain": [
       "0"
      ]
     },
     "execution_count": 4,
     "metadata": {},
     "output_type": "execute_result"
    }
   ],
   "source": [
    "data['Embarked'].isnull().sum()"
   ]
  },
  {
   "cell_type": "code",
   "execution_count": 5,
   "id": "c0d0d338-ef57-4bd1-a4cc-b8672832ffed",
   "metadata": {},
   "outputs": [],
   "source": [
    "#prosty modelik SGD\n",
    "from sklearn.linear_model import SGDClassifier\n",
    "# dla tego estymatora należy zawsze zeskalować dane, inaczej może się albo długo uczyć, \n",
    "# albo w nieprawidłowy sposób wartościować cechy wysokoliczbowe\n",
    "from sklearn.pipeline import make_pipeline\n",
    "from sklearn.preprocessing import StandardScaler\n",
    "\n",
    "from sklearn.model_selection import cross_val_score\n",
    "\n",
    "sgd_clf = make_pipeline(StandardScaler(), \n",
    "                        SGDClassifier(max_iter=1000, tol=1e-3, random_state = 128262))\n",
    "\n",
    "#sgd_clf = SGDClassifier(random_state = 128262)\n",
    "sgd_clf.fit(X_train, y_train)\n",
    "klasy = sgd_clf.classes_\n",
    "\n",
    "#jaka jest dokładność naszego modelu\n",
    "tmp1 = cross_val_score(sgd_clf, X_train, y_train, cv=5, scoring='accuracy')\n",
    "#array([0.68715084, 0.75842697, 0.66292135, 0.78651685, 0.78089888])"
   ]
  },
  {
   "cell_type": "markdown",
   "id": "82d74991-4f0c-41d8-b6d3-37b70e30c04a",
   "metadata": {},
   "source": [
    "Zbuduję teraz trywialny estymator bazowy"
   ]
  },
  {
   "cell_type": "code",
   "execution_count": 6,
   "id": "b22cd765-f8ce-4e19-b86a-adae570ec3d5",
   "metadata": {},
   "outputs": [],
   "source": [
    "#prosty model zerowy dziedziczący z estymatora bazowego sklearn\n",
    "from sklearn.base import BaseEstimator\n",
    "\n",
    "#przygotowuję zerowy klasyyfikator zawsze wskazujący klasę większościową\n",
    "class NoSurvivedClasifier(BaseEstimator):\n",
    "    \n",
    "    def fit(self, X, y=None):\n",
    "        return self\n",
    "    \n",
    "    def predict(self, X):\n",
    "        return np.zeros((len(X),1), dtype=bool)\n",
    "                        \n",
    "#sprawdzam jaka będzie dokładność naszego modelu\n",
    "\n",
    "NoSurv_clf = NoSurvivedClasifier()\n",
    "tmp2 = cross_val_score(NoSurv_clf, X_train, y_train, cv=5, scoring='accuracy')\n",
    "#array([0.67039106, 0.55617978, 0.61235955, 0.59550562, 0.64606742])              "
   ]
  },
  {
   "cell_type": "code",
   "execution_count": 7,
   "id": "7a4ad97e-314e-4d66-8c10-1fdcb72ac5e4",
   "metadata": {},
   "outputs": [
    {
     "name": "stdout",
     "output_type": "stream",
     "text": [
      "0.7528612232837585\n",
      "0.6236284841918645\n"
     ]
    }
   ],
   "source": [
    "print(np.mean(tmp1))\n",
    "print(np.mean(tmp2))"
   ]
  },
  {
   "cell_type": "markdown",
   "id": "749a86f0-fb5d-44db-a753-8b8f417aaa69",
   "metadata": {},
   "source": [
    "No to przyglądnijmy się macierzom pomyłek dla naszych modeli. Przygotuję po macierzy zbudowanej modelem w standardowy sposób oraz dla modeli zbudowanych metodą cv"
   ]
  },
  {
   "cell_type": "code",
   "execution_count": 8,
   "id": "d1bf3076-2b78-40d6-bd46-95b293d90c9d",
   "metadata": {},
   "outputs": [
    {
     "data": {
      "image/png": "[encoded data removed]",
      "text/plain": [
       "<Figure size 1440x360 with 5 Axes>"
      ]
     },
     "metadata": {
      "needs_background": "light"
     },
     "output_type": "display_data"
    }
   ],
   "source": [
    "from sklearn.metrics import confusion_matrix, ConfusionMatrixDisplay\n",
    "from sklearn.model_selection import cross_val_predict\n",
    "import matplotlib.pyplot as plt\n",
    "\n",
    "# kod na pojedynczą macierz\n",
    "#cm = confusion_matrix(y_test, y_hat, labels=xgb_clf.classes_)\n",
    "#disp = ConfusionMatrixDisplay(confusion_matrix=cm,\n",
    "#                              display_labels=xgb_clf.classes_)\n",
    "\n",
    "f, axes = plt.subplots(1, 4, figsize=(20, 5), sharey='row')\n",
    "# teraz jakbyśmy mieli podobne modele dobrze by było pojechać pętlą jak pokazano tutakj \n",
    "# https://stackoverflow.com/questions/61825227/plotting-multiple-confusion-matrix-side-by-side\n",
    "\n",
    "\n",
    "# bazowy zbiór testowy\n",
    "y_hat = NoSurv_clf.predict(X_test)\n",
    "cm = confusion_matrix(y_test, y_hat)\n",
    "disp = ConfusionMatrixDisplay(cm, display_labels = klasy)\n",
    "disp.plot(ax=axes[0], xticks_rotation=45)\n",
    "disp.ax_.set_title(\"Base estimator, test set\")\n",
    "disp.im_.colorbar.remove()\n",
    "disp.ax_.set_xlabel('')\n",
    "\n",
    "# SGD  zbiór testowy\n",
    "y_hat = sgd_clf.predict(X_test)\n",
    "cm = confusion_matrix(y_test, y_hat)\n",
    "disp = ConfusionMatrixDisplay(cm, display_labels = klasy)\n",
    "disp.plot(ax=axes[1], xticks_rotation=45)\n",
    "disp.ax_.set_title(\"SGD estimator, test set\")\n",
    "disp.im_.colorbar.remove()\n",
    "disp.ax_.set_xlabel('')\n",
    "disp.ax_.set_ylabel('')\n",
    "\n",
    "# Base estimator CV\n",
    "y_hat = cross_val_predict(NoSurv_clf, X, y, cv=5)\n",
    "cm = confusion_matrix(y, y_hat)\n",
    "disp = ConfusionMatrixDisplay(cm, display_labels = klasy)\n",
    "disp.plot(ax=axes[2], xticks_rotation=45)\n",
    "disp.ax_.set_title(\"Base estimator, CV\")\n",
    "disp.im_.colorbar.remove()\n",
    "disp.ax_.set_xlabel('')\n",
    "disp.ax_.set_ylabel('')\n",
    "\n",
    "\n",
    "# SGD estimator CV\n",
    "y_hat = cross_val_predict(sgd_clf, X, y, cv=5)\n",
    "cm = confusion_matrix(y, y_hat)\n",
    "disp = ConfusionMatrixDisplay(cm, display_labels = klasy)\n",
    "disp.plot(ax=axes[3], xticks_rotation=45)\n",
    "disp.ax_.set_title(\"SGD estimator, CV\")\n",
    "disp.im_.colorbar.remove()\n",
    "disp.ax_.set_xlabel('')\n",
    "disp.ax_.set_ylabel('')\n",
    "\n",
    "f.text(0.4, 0.1, 'Predicted label', ha='left')\n",
    "plt.subplots_adjust(wspace=0.40, hspace=0.1)\n",
    "\n",
    "f.colorbar(disp.im_, ax=axes)\n",
    "plt.savefig(\"confusion_matrix_examples.png\", format='png', dpi=300, facecolor=\"White\")\n",
    "plt.show()"
   ]
  },
  {
   "cell_type": "markdown",
   "id": "39976c21-cbce-4783-bb2e-cdcc1c0bec93",
   "metadata": {},
   "source": [
    "Brawo, udało się uzyskać model mocniejszy od zerowego. Dokładność zerowego średnio wynosi około 61.61% co jest zbieżne z udziałem zgonów na poziomie 61.62%"
   ]
  },
  {
   "cell_type": "markdown",
   "id": "e4985fe6-7ebc-4a4a-bdd8-d6f2caa6357d",
   "metadata": {},
   "source": [
    "#### Dokładność czyli accuracy"
   ]
  },
  {
   "cell_type": "code",
   "execution_count": 9,
   "id": "2f65b4fc-ec11-444c-9216-37b771e3d41c",
   "metadata": {},
   "outputs": [
    {
     "name": "stdout",
     "output_type": "stream",
     "text": [
      "Accuracy for SGD model, test set: 0.7430\n",
      "Accuracy for Base model, test set: 0.5866\n",
      "Accuracy for SGD model, train set: 0.7626\n",
      "Accuracy for Base model, train set: 0.6236\n",
      "Accuracy for SGD model, Cross validation: 0.7352\n",
      "Accuracy for Base model, Cross validation: 0.6161\n"
     ]
    }
   ],
   "source": [
    "# przeliczenie na dowolnym zbiorze po przygotowaniu dwóch różnych modeli\n",
    "from sklearn.metrics import accuracy_score\n",
    "\n",
    "y_hat_sgd = sgd_clf.predict(X_test)\n",
    "y_hat_zero = NoSurv_clf.predict(X_test)\n",
    "\n",
    "#zbiór testowy\n",
    "print(\"Accuracy for SGD model, test set: {0:.4f}\".format(accuracy_score(y_test, y_hat_sgd)))\n",
    "print(\"Accuracy for Base model, test set: {0:.4f}\".format(accuracy_score(y_test, y_hat_zero)))\n",
    "#zbiór treningowy\n",
    "print(\"Accuracy for SGD model, train set: {0:.4f}\".format(accuracy_score(y_train, sgd_clf.predict(X_train))))\n",
    "print(\"Accuracy for Base model, train set: {0:.4f}\".format(accuracy_score(y_train, NoSurv_clf.predict(X_train))))\n",
    "\n",
    "# można jeszcze porównać sprawdzeniem krzyżowym na pełnym zbiorze danych\n",
    "sgd_cv = cross_val_score(sgd_clf, X, y, cv=5, scoring='accuracy')\n",
    "NoSurv_cv = cross_val_score(NoSurv_clf, X, y, cv=5, scoring='accuracy')\n",
    "\n",
    "print(\"Accuracy for SGD model, Cross validation: {0:.4f}\".format(np.mean(sgd_cv)))\n",
    "print(\"Accuracy for Base model, Cross validation: {0:.4f}\".format(np.mean(NoSurv_cv)))\n"
   ]
  },
  {
   "cell_type": "markdown",
   "id": "8d241efa-8670-4ea5-9591-a73862114f94",
   "metadata": {},
   "source": [
    "#### Precyzja czyli precision "
   ]
  },
  {
   "cell_type": "code",
   "execution_count": 10,
   "id": "a8efba3d-324b-400c-8a62-cbdd937fbb43",
   "metadata": {},
   "outputs": [
    {
     "name": "stdout",
     "output_type": "stream",
     "text": [
      "Precision for SGD model, test set: 0.7059\n",
      "Precision for SGD model, train set: 0.6840\n",
      "Precision for SGD model, Cross validation: 0.6725\n"
     ]
    }
   ],
   "source": [
    "from sklearn.metrics import precision_score\n",
    "\n",
    "y_hat_sgd = sgd_clf.predict(X_test)\n",
    "\n",
    "#zbiór testowy\n",
    "print(\"Precision for SGD model, test set: {0:.4f}\".format(precision_score(y_test, y_hat_sgd)))\n",
    "#zbiór treningowy\n",
    "print(\"Precision for SGD model, train set: {0:.4f}\".format(precision_score(y_train, sgd_clf.predict(X_train))))\n",
    "\n",
    "# można jeszcze porównać sprawdzeniem krzyżowym na pełnym zbiorze danych\n",
    "sgd_cv = cross_val_score(sgd_clf, X, y, cv=5, scoring='precision')\n",
    "\n",
    "print(\"Precision for SGD model, Cross validation: {0:.4f}\".format(np.mean(sgd_cv)))"
   ]
  },
  {
   "cell_type": "markdown",
   "id": "80b93269-25e4-4b9b-8f2b-84874c473467",
   "metadata": {},
   "source": [
    "#### Pełność czyli Recall"
   ]
  },
  {
   "cell_type": "code",
   "execution_count": 11,
   "id": "7e643519-f39b-40ff-bbc6-6e384b34b88d",
   "metadata": {},
   "outputs": [
    {
     "name": "stdout",
     "output_type": "stream",
     "text": [
      "Recall for SGD model, test set: 0.6486\n",
      "Recall for SGD model, train set: 0.6866\n",
      "Recall for SGD model, Cross validation: 0.6135\n"
     ]
    }
   ],
   "source": [
    "from sklearn.metrics import recall_score\n",
    "\n",
    "y_hat_sgd = sgd_clf.predict(X_test)\n",
    "\n",
    "#zbiór testowy\n",
    "print(\"Recall for SGD model, test set: {0:.4f}\".format(recall_score(y_test, y_hat_sgd)))\n",
    "#zbiór treningowy\n",
    "print(\"Recall for SGD model, train set: {0:.4f}\".format(recall_score(y_train, sgd_clf.predict(X_train))))\n",
    "\n",
    "# można jeszcze porównać sprawdzeniem krzyżowym na pełnym zbiorze danych\n",
    "sgd_cv = cross_val_score(sgd_clf, X, y, cv=5, scoring='recall')\n",
    "\n",
    "print(\"Recall for SGD model, Cross validation: {0:.4f}\".format(np.mean(sgd_cv)))"
   ]
  },
  {
   "cell_type": "markdown",
   "id": "8aec6416-169a-4f95-b514-47c1f96b6802",
   "metadata": {},
   "source": [
    "#### Teraz przyglądniemy się wartościom precyzji oraz pełności w zależności od ustalonego progu dla funkcji decyzyjnej. \n",
    "Funkcja decyzyjna przyjmuje różne rzędy wielkości dla różnych problemów dlatego nie można jej w łatwy sposób zinterpetować. Zawsze należy więc najpierw sprawdzić rozkład funkcji decyzyjnej i dopiero później ustalać ewentualne progi decyzyjne"
   ]
  },
  {
   "cell_type": "code",
   "execution_count": 12,
   "id": "25d90946-2b90-43f6-9392-f1fef45774a9",
   "metadata": {},
   "outputs": [],
   "source": [
    "from sklearn.model_selection import cross_val_predict\n",
    "from sklearn.metrics import precision_recall_curve\n",
    "\n",
    "y_scores = cross_val_predict(sgd_clf, X, y, cv=5, method=\"decision_function\")\n",
    "# mając te wyniki możemy wyliczyć precyzję i pełność dla wszystkich możliwych \n",
    "# progów decyzyjnych za pomocą funkcji precision_recall_curve()\n",
    "precisions, recalls, thresholds = precision_recall_curve(y, y_scores)\n"
   ]
  },
  {
   "cell_type": "code",
   "execution_count": 25,
   "id": "54027913-f8ca-488c-95e5-fe30df2c7950",
   "metadata": {},
   "outputs": [
    {
     "data": {
      "image/png": "[encoded data removed]",
      "text/plain": [
       "<Figure size 648x360 with 1 Axes>"
      ]
     },
     "metadata": {
      "needs_background": "light"
     },
     "output_type": "display_data"
    }
   ],
   "source": [
    "# teraz możemy to wrzucić na wykres. W tym celu definiuje \n",
    "def plot_precision_recall_vs_threshold(precisions, recalls, thresholds):\n",
    "    plt.plot(thresholds, precisions[:-1], \"b--\", label=\"Precyzja\", linewidth=2)\n",
    "    plt.plot(thresholds, recalls[:-1], \"g-\", label=\"Pełność\", linewidth=2)\n",
    "    plt.legend(loc=\"center right\", fontsize=16) \n",
    "    plt.xlabel(\"Próg\", fontsize=16)             \n",
    "    plt.grid(True)                              \n",
    "    plt.axis([-10, 10, 0, 1])  # statyczne progi, można dodać automat do zaokrąglania min max bo róznie to wygląda\n",
    "\n",
    "# i teraz definiuję parametry i wrzucam je do wykresu. Dodaję przykładowe odcięcie dla precyzji 90%\n",
    "recall_90_precision = recalls[np.argmax(precisions >= 0.90)]\n",
    "threshold_90_precision = thresholds[np.argmax(precisions >= 0.90)]\n",
    "\n",
    "plt.figure(figsize=(9, 5))                                                                 \n",
    "plot_precision_recall_vs_threshold(precisions, recalls, thresholds)\n",
    "plt.plot([threshold_90_precision, threshold_90_precision], [0., 0.9], \"r:\")                 \n",
    "plt.plot([-10, threshold_90_precision], [0.9, 0.9], \"r:\")                                \n",
    "plt.plot([-10, threshold_90_precision], [recall_90_precision, recall_90_precision], \"r:\")\n",
    "plt.plot([threshold_90_precision], [0.9], \"ro\")                                             \n",
    "plt.plot([threshold_90_precision], [recall_90_precision], \"ro\")                             \n",
    "plt.savefig(\"precision_recall_treshold.png\", format='png', dpi=300, facecolor=\"White\")                                           \n",
    "plt.show()"
   ]
  },
  {
   "cell_type": "code",
   "execution_count": 26,
   "id": "638a9be1-3ed9-42fc-b76e-270d162160dc",
   "metadata": {},
   "outputs": [
    {
     "data": {
      "image/png": "[encoded data removed]",
      "text/plain": [
       "<Figure size 648x360 with 1 Axes>"
      ]
     },
     "metadata": {
      "needs_background": "light"
     },
     "output_type": "display_data"
    }
   ],
   "source": [
    "# kolejny wykres obrazujący zależność pomiędzy tymi wartościamy bez trzecio wymiaru jakim jest wartość funkcji decyzyjnej\n",
    "plt.figure(figsize=(9, 5))     \n",
    "plt.plot(recalls[:-1],precisions[:-1], \"g-\", linewidth=2)\n",
    "plt.grid(True) \n",
    "plt.xlabel(\"Pełność\", fontsize=16)\n",
    "plt.ylabel(\"Precyzja\", fontsize=16)\n",
    "\n",
    "plt.savefig(\"precision_recall.png\", format='png', dpi=300, facecolor=\"White\") \n",
    "plt.show()"
   ]
  },
  {
   "cell_type": "code",
   "execution_count": 29,
   "id": "4e885a08-9baf-4ccd-9da9-8badc577fb8e",
   "metadata": {},
   "outputs": [
    {
     "name": "stdout",
     "output_type": "stream",
     "text": [
      "Wartość skoringu f1: 0.6834\n"
     ]
    }
   ],
   "source": [
    "from sklearn.metrics import f1_score\n",
    "print(\"Wartość skoringu f1: {0:.4f}\".format(f1_score(sgd_clf.predict(X), y)))\n",
    "#Wartość skoringu f1: 0.6834"
   ]
  },
  {
   "cell_type": "markdown",
   "id": "8f242514-1f7c-421e-b60d-3969147fd4eb",
   "metadata": {},
   "source": [
    "#### ROC czyli Charakterystyka robocza odbiornika (_receiver operating characteristic_)\n",
    "Nie wiem kto wymyślił nazwę tej miary..."
   ]
  },
  {
   "cell_type": "code",
   "execution_count": 23,
   "id": "64137096-19c9-4e8d-9721-c036e8caf9f2",
   "metadata": {},
   "outputs": [
    {
     "data": {
      "image/png": "[encoded data removed]",
      "text/plain": [
       "<Figure size 576x432 with 1 Axes>"
      ]
     },
     "metadata": {
      "needs_background": "light"
     },
     "output_type": "display_data"
    }
   ],
   "source": [
    "from sklearn.metrics import roc_curve\n",
    "import matplotlib.pyplot as plt\n",
    "from sklearn.model_selection import cross_val_predict\n",
    "from sklearn.metrics import roc_auc_score\n",
    "\n",
    "y_scores = cross_val_predict(sgd_clf, X, y, cv=5, method=\"decision_function\")\n",
    "FP, PP, thresholds = roc_curve(y, y_scores)\n",
    "\n",
    "def plot_roc_curve(fpr, tpr, label=None):\n",
    "    plt.plot(fpr, tpr, linewidth=2, label=label)\n",
    "    plt.plot([0, 1], [0, 1], 'k--') \n",
    "    plt.axis([0, 1, 0, 1])     \n",
    "    plt.xlabel('Odsetek fałszywie pozytywnych (1-Specificity)', fontsize=13)    \n",
    "    plt.ylabel('Odsetek prawdziwie pozytywnych (sensitivity lub recall)', fontsize=13) \n",
    "    plt.grid(True)                                   \n",
    "\n",
    "plt.figure(figsize=(8, 6))       \n",
    "plot_roc_curve(FP, PP)\n",
    "auc = roc_auc_score(y, y_scores)\n",
    "txt = \"AUC = \" + str(round(auc,2))\n",
    "plt.text(0.88, 0.1, txt, size=14, \n",
    "         ha=\"center\", va=\"center\",\n",
    "         bbox=dict(boxstyle=\"round\",\n",
    "                   ec=(1., 0.5, 0.5),\n",
    "                   fc=(1., 0.8, 0.8),\n",
    "                   )\n",
    "        )\n",
    "plt.savefig(\"ROC.png\", format='png', dpi=300, facecolor=\"White\")    \n",
    "plt.show()\n"
   ]
  },
  {
   "cell_type": "code",
   "execution_count": 24,
   "id": "5d595f92-afd7-4d45-bf42-251faa367755",
   "metadata": {},
   "outputs": [
    {
     "data": {
      "image/png": "[encoded data removed]",
      "text/plain": [
       "<Figure size 432x288 with 1 Axes>"
      ]
     },
     "metadata": {
      "needs_background": "light"
     },
     "output_type": "display_data"
    }
   ],
   "source": [
    "# wersja dla leniwych, korzystamy z wbudowanej metody\n",
    "from sklearn.metrics import RocCurveDisplay\n",
    "\n",
    "RocCurveDisplay.from_estimator(sgd_clf, X, y)\n",
    "plt.savefig(r\"ROC_v2.png\", format=\"png\" , dpi=300, facecolor=\"White\")"
   ]
  }
 ],
 "metadata": {
  "kernelspec": {
   "display_name": "Python 3 (ipykernel)",
   "language": "python",
   "name": "python3"
  },
  "language_info": {
   "codemirror_mode": {
    "name": "ipython",
    "version": 3
   },
   "file_extension": ".py",
   "mimetype": "text/x-python",
   "name": "python",
   "nbconvert_exporter": "python",
   "pygments_lexer": "ipython3",
   "version": "3.9.7"
  }
 },
 "nbformat": 4,
 "nbformat_minor": 5
}
